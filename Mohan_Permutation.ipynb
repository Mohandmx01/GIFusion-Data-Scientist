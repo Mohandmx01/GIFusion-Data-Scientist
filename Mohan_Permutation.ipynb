{
 "cells": [
  {
   "cell_type": "code",
   "execution_count": 1,
   "metadata": {},
   "outputs": [
    {
     "name": "stdout",
     "output_type": "stream",
     "text": [
      "[1, 3, 2]\n",
      "[1, 2, 3]\n",
      "[1, 5, 1]\n"
     ]
    }
   ],
   "source": [
    "# PYTHON\n",
    "class Solution:\n",
    "    def nextPermutation(self, nums):\n",
    "        \n",
    "        k = len(nums) - 2\n",
    "        while k >= 0 and nums[k] >= nums[k + 1]:\n",
    "            k -= 1\n",
    "\n",
    "        if k == -1:\n",
    "            nums.reverse()\n",
    "            return\n",
    "\n",
    "        \n",
    "        l = len(nums) - 1\n",
    "        while nums[l] <= nums[k]:\n",
    "            l -= 1\n",
    "\n",
    "\n",
    "        nums[k], nums[l] = nums[l], nums[k]\n",
    "\n",
    "        nums[k + 1:] = reversed(nums[k + 1:])\n",
    "\n",
    "# Example:\n",
    "solution = Solution()\n",
    "\n",
    "# test case 1\n",
    "nums1 = [1, 2, 3]\n",
    "solution.nextPermutation(nums1)\n",
    "print(nums1)  \n",
    "\n",
    "# test case 2\n",
    "nums2 = [3, 2, 1]\n",
    "solution.nextPermutation(nums2)\n",
    "print(nums2) \n",
    "\n",
    "# test case 3\n",
    "nums3 = [1, 1, 5]\n",
    "solution.nextPermutation(nums3)\n",
    "print(nums3) \n"
   ]
  }
 ],
 "metadata": {
  "kernelspec": {
   "display_name": "Python 3",
   "language": "python",
   "name": "python3"
  },
  "language_info": {
   "codemirror_mode": {
    "name": "ipython",
    "version": 3
   },
   "file_extension": ".py",
   "mimetype": "text/x-python",
   "name": "python",
   "nbconvert_exporter": "python",
   "pygments_lexer": "ipython3",
   "version": "3.10.11"
  }
 },
 "nbformat": 4,
 "nbformat_minor": 2
}
